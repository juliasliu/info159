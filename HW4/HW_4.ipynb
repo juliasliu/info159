{
  "cells": [
    {
      "cell_type": "markdown",
      "metadata": {
        "colab_type": "text",
        "id": "view-in-github"
      },
      "source": [
        "<a href=\"https://colab.research.google.com/github/juliasliu/info159/blob/main/HW4/HW_4.ipynb\" target=\"_parent\"><img src=\"https://colab.research.google.com/assets/colab-badge.svg\" alt=\"Open In Colab\"/></a>"
      ]
    },
    {
      "cell_type": "markdown",
      "metadata": {
        "id": "inWOGaHZMsUH"
      },
      "source": [
        "# Homework 4: Language Modeling\n",
        "\n",
        "In this homework, we will explore implementations of various language models we saw in lecture. We will use a dataset of movie reviews to learn statitics about words in our language to build our models. We will build classical N-Gram Models, measure perplexity, and generate text using the models."
      ]
    },
    {
      "cell_type": "markdown",
      "metadata": {
        "id": "iNBJieAJcdlY"
      },
      "source": [
        "## Setup"
      ]
    },
    {
      "cell_type": "code",
      "execution_count": 1,
      "metadata": {
        "colab": {
          "base_uri": "https://localhost:8080/"
        },
        "id": "xJy9Ar2YFz6h",
        "outputId": "a93ab57d-cf5e-4dcb-c6b7-86c411f0f749"
      },
      "outputs": [
        {
          "ename": "ModuleNotFoundError",
          "evalue": "No module named 'nltk'",
          "output_type": "error",
          "traceback": [
            "\u001b[0;31m---------------------------------------------------------------------------\u001b[0m",
            "\u001b[0;31mModuleNotFoundError\u001b[0m                       Traceback (most recent call last)",
            "Input \u001b[0;32mIn [1]\u001b[0m, in \u001b[0;36m<module>\u001b[0;34m\u001b[0m\n\u001b[1;32m      5\u001b[0m \u001b[38;5;28;01mimport\u001b[39;00m \u001b[38;5;21;01mrandom\u001b[39;00m\n\u001b[1;32m      7\u001b[0m \u001b[38;5;28;01mimport\u001b[39;00m \u001b[38;5;21;01mpandas\u001b[39;00m \u001b[38;5;28;01mas\u001b[39;00m \u001b[38;5;21;01mpd\u001b[39;00m\n\u001b[0;32m----> 8\u001b[0m \u001b[38;5;28;01mimport\u001b[39;00m \u001b[38;5;21;01mnltk\u001b[39;00m\n\u001b[1;32m      9\u001b[0m \u001b[38;5;28;01mfrom\u001b[39;00m \u001b[38;5;21;01mnltk\u001b[39;00m\u001b[38;5;21;01m.\u001b[39;00m\u001b[38;5;21;01mtokenize\u001b[39;00m \u001b[38;5;28;01mimport\u001b[39;00m word_tokenize\n\u001b[1;32m     10\u001b[0m nltk\u001b[38;5;241m.\u001b[39mdownload(\u001b[38;5;124m'\u001b[39m\u001b[38;5;124mpunkt\u001b[39m\u001b[38;5;124m'\u001b[39m)\n",
            "\u001b[0;31mModuleNotFoundError\u001b[0m: No module named 'nltk'"
          ]
        }
      ],
      "source": [
        "from collections import Counter\n",
        "import numpy as np\n",
        "import math\n",
        "import tqdm\n",
        "import random\n",
        "\n",
        "import pandas as pd\n",
        "import nltk\n",
        "from nltk.tokenize import word_tokenize\n",
        "nltk.download('punkt')\n",
        "\n",
        "import torch\n",
        "from torch import nn\n",
        "import torch.nn.functional as F\n",
        "import torchtext.legacy as torchtext"
      ]
    },
    {
      "cell_type": "code",
      "execution_count": null,
      "metadata": {
        "colab": {
          "base_uri": "https://localhost:8080/",
          "height": 308,
          "referenced_widgets": [
            "36db557c2c4541f18a4051a39efca6f7",
            "3999a189ebca45fda8d7a4955d4619df",
            "75b57c0b4ecc48c3b210b4ab617a4c19",
            "03bca0d5c8ff46288e9e9204965506dd",
            "1824189c652047c8a25431072071dcb9",
            "1ea1a3baa0604bd49c82b19ea6a0bdfe",
            "f44c78920f374dfc958dc7199ee89658",
            "333247b93b0d49a5856dfd592f0c8365",
            "aaa03cfd503c4699846a1926317e60c4",
            "152684c87e24416797a40db7b8d69a34",
            "eea2e5eb6ec7408389ba5f8c6965e2f2"
          ]
        },
        "id": "EDW95kiEPWim",
        "outputId": "b8a3bb7f-4769-4b29-80e8-20ed148f5469"
      },
      "outputs": [
        {
          "name": "stdout",
          "output_type": "stream",
          "text": [
            "--2022-02-16 02:13:57--  https://raw.githubusercontent.com/dbamman/nlp22/main/HW4/plot_summaries.txt\n",
            "Resolving raw.githubusercontent.com (raw.githubusercontent.com)... 185.199.108.133, 185.199.110.133, 185.199.109.133, ...\n",
            "Connecting to raw.githubusercontent.com (raw.githubusercontent.com)|185.199.108.133|:443... connected.\n",
            "HTTP request sent, awaiting response... 200 OK\n",
            "Length: 75934033 (72M) [text/plain]\n",
            "Saving to: ‘plot_summaries.txt.1’\n",
            "\n",
            "plot_summaries.txt. 100%[===================>]  72.42M   202MB/s    in 0.4s    \n",
            "\n",
            "2022-02-16 02:13:58 (202 MB/s) - ‘plot_summaries.txt.1’ saved [75934033/75934033]\n",
            "\n"
          ]
        },
        {
          "data": {
            "application/vnd.jupyter.widget-view+json": {
              "model_id": "36db557c2c4541f18a4051a39efca6f7",
              "version_major": 2,
              "version_minor": 0
            },
            "text/plain": [
              "  0%|          | 0/42303 [00:00<?, ?it/s]"
            ]
          },
          "metadata": {},
          "output_type": "display_data"
        },
        {
          "name": "stdout",
          "output_type": "stream",
          "text": [
            "Number of words in the vocabulary: 57663\n",
            "Example text: ['he', 'stumbles', 'upon', 'a', 'jailbreak', 'and', 'knocks', 'out', 'the', 'convicts', '.', 'he', 'is', 'hailed', 'a', 'hero', 'and', 'is', 'released', '.', 'outside', 'the', 'jail', ',', 'he', 'discovers', 'life', 'is', 'harsh', ',']\n"
          ]
        }
      ],
      "source": [
        "# download and load the data\n",
        "!wget https://raw.githubusercontent.com/dbamman/nlp22/main/HW4/plot_summaries.txt\n",
        "data = pd.read_csv('plot_summaries.txt', sep='\\t', header=None)[1].tolist()\n",
        "\n",
        "def make_text(data):\n",
        "    all_text = []\n",
        "    for d in tqdm.notebook.tqdm(data):\n",
        "        all_text.append(\"<eos>\")\n",
        "        clean_text = \" \".join(d.lower().split())\n",
        "        all_text.extend(word_tokenize(clean_text))\n",
        "        all_text.append(\"<eos>\")\n",
        "    return all_text\n",
        "\n",
        "text = make_text(data)\n",
        "train_size, validation_size = 2000000, 200000\n",
        "train_text, validation_text = text[:train_size], text[train_size:train_size+validation_size]\n",
        "\n",
        "text_field = torchtext.data.Field()\n",
        "counter = Counter(train_text)\n",
        "text_field.vocab = text_field.vocab_cls(counter)\n",
        "vocab = text_field.vocab\n",
        "vocab_size = len(vocab)\n",
        "\n",
        "print(\"Number of words in the vocabulary: {}\".format(vocab_size))\n",
        "print(\"Example text: {}\".format(validation_text[:30]))"
      ]
    },
    {
      "cell_type": "code",
      "execution_count": null,
      "metadata": {
        "id": "bYh1e5jYy5YL"
      },
      "outputs": [],
      "source": [
        "def make_dataset(text):\n",
        "    a = torchtext.data.Example.fromlist([\" \".join(text)], [('text', text_field)])\n",
        "    return torchtext.data.Dataset([a], [('text', text_field)])\n",
        "\n",
        "train_dataset, validation_dataset = make_dataset(train_text), make_dataset(validation_text)"
      ]
    },
    {
      "cell_type": "code",
      "execution_count": null,
      "metadata": {
        "id": "SCcz1iY5Pd4v"
      },
      "outputs": [],
      "source": [
        "def ids(vocab, tokens):\n",
        "    \"\"\"Helper function to convert a list of words into indices in our vocab\"\"\"\n",
        "    return [vocab.stoi[t] for t in tokens]"
      ]
    },
    {
      "cell_type": "code",
      "execution_count": null,
      "metadata": {
        "colab": {
          "base_uri": "https://localhost:8080/"
        },
        "id": "qGorQ1ruGt2i",
        "outputId": "fa6080de-5048-4058-be9f-99bec72bd949"
      },
      "outputs": [
        {
          "name": "stdout",
          "output_type": "stream",
          "text": [
            "Running on cuda\n"
          ]
        }
      ],
      "source": [
        "device = \"cuda\" if torch.cuda.is_available() else \"cpu\"\n",
        "print(\"Running on {}\".format(device))"
      ]
    },
    {
      "cell_type": "markdown",
      "metadata": {
        "id": "xuyB3RfjPoGu"
      },
      "source": [
        "## Classical N-Gram Model\n",
        "\n",
        "For this part, we will build a classical N-Gram model to learn the statistics of our training data. To train this model, we simply count the number of times each $n$-gram occurs in our training text and divide it by the number of times the first $n-1$ words occur. Additionally, we will also add alpha-smoothing to make sure no word has $0$ probability. This is summed up in this equation:\n",
        "\n",
        "$$P(w_n|w_1 \\dots w_{n-1})=\\frac{C(w_1 \\dots w_n)+\\alpha}{C(w_1 \\dots w_{n-1})+\\alpha\\cdot|V|}$$\n",
        "\n",
        "where $|V|$ is the vocab size and $C$ is the count for the given n-gram.\n",
        "\n",
        "We will handle computing the counts for you and your job will be to simply fill in the functions to compute the above equation and the perplexity for the model."
      ]
    },
    {
      "cell_type": "code",
      "execution_count": null,
      "metadata": {
        "id": "0xJjoXN_F-s0"
      },
      "outputs": [],
      "source": [
        "class NGramModel:\n",
        "    def __init__(self, train_text, vocab, n=2, alpha=3e-3):\n",
        "        # get counts and perform any other setup\n",
        "        self.n = n\n",
        "        self.smoothing = alpha\n",
        "        self.vocab = vocab\n",
        "\n",
        "        # count n-grams\n",
        "        self.counts_n = Counter()\n",
        "        curr = [\"<eos>\"] * (self.n - 1) # padding for initial words\n",
        "        for i in range(len(train_text)):\n",
        "            curr.append(train_text[i])\n",
        "            gram = \" \".join(curr)\n",
        "            self.counts_n[gram] += 1\n",
        "            curr.pop(0)\n",
        "\n",
        "        # count n-1-gram\n",
        "        self.counts_n_1 = Counter()\n",
        "        for c in self.counts_n:\n",
        "          temp = \" \".join(c.split(\" \")[:-1])\n",
        "          self.counts_n_1[temp] += self.counts_n[c]  \n",
        "\n",
        "    def get_probability(self, text):\n",
        "        \"\"\"Return the probability of the last word in an n-gram. This is the\n",
        "        equation given in the text above.\n",
        "        \n",
        "        Args:\n",
        "            text: a list of string tokens\n",
        "\n",
        "        Hints:\n",
        "            - self.counts_n contains the number of occurances for any string of n words\n",
        "            - self.count_n_1 contains the number of occurances for any string of n-1 words\n",
        "            - you can use the join method to create a string from a list of words\n",
        "            - Remember, the given string can have more than n words\n",
        "            - self.vocab contains a dictionary of the vocabulary\n",
        "        \"\"\"\n",
        "        assert len(text) >= self.n, f\"Expected at least {self.n} words; got {len(text)} words. \\nGiven text: {text}\"\n",
        "\n",
        "        # BEGIN SOLUTION\n",
        "        n_words_string = ' '.join(text)\n",
        "        n_1_words_string = ' '.join(text[:-1])\n",
        "        return (self.counts_n[n_words_string] + self.smoothing)/(self.counts_n_1[n_1_words_string] + self.smoothing * len(self.vocab))\n",
        "\n",
        "        # END SOLUTION\n",
        "\n",
        "    def get_next_word_probabilities(self, text_prefix):\n",
        "        \"\"\"Return a list of probabilities for each word in the vocabulary.\n",
        "\n",
        "        Args:\n",
        "            text_prefix: a list of string tokens\n",
        "\n",
        "        Hints:\n",
        "            - you need to use your get_probability function\n",
        "            - self.vocab.itos contains a list of words to return probabilities for\n",
        "            - you will need to handle the cases in which the text prefix is both\n",
        "                shorter and longer than n-1 words. For the shorter case, you need to\n",
        "                pad with \"<eos>\" tokens to the beginning of the text prefix. For the\n",
        "                longer case, you need to truncate the text prefix to the last n-1 words\n",
        "            - As a sanity check, you should make sure the probabilities you return add up to 1\n",
        "        \"\"\"\n",
        "        # BEGIN SOLUTION\n",
        "        curr = [\"<eos>\"] * (self.n - 1 - len(text_prefix)) + text_prefix[max(len(text_prefix) - self.n - 1, 0):]\n",
        "        list_of_probabilities = [self.get_probability(curr + [word]) for word in self.vocab.itos]\n",
        "\n",
        "        return list_of_probabilities\n",
        "        # END SOLUTION"
      ]
    },
    {
      "cell_type": "markdown",
      "metadata": {
        "id": "pR5BV_IbFNbF"
      },
      "source": [
        "### Perplexity\n",
        "\n",
        "To evaluate how good our language model, we use a metric called perplexity. The perplexity of a language model (PP) on a test set is the inverse probability of the test set, normalized by the number of words. Let $W = w_{1}w_{2}\\dots w_{N}$. Then,\n",
        "\n",
        "$$PP(W) = \\sqrt[N]{\\prod_{i = 1}^{N}\\frac{1}{P(w_{i}|w_{1}\\dots w_{i - 1})}}$$\n",
        "\n",
        "However, since these probabilities are often small, taking the inverse and multiplying can be numerically unstable, so we often first compute these values in the log domain and then convert back. So this equation looks like:\n",
        "\n",
        "$$\\ln PP(W) = \\frac{1}{N} \\sum_{i = 1}^{N} -\\ln P(w_{i}|w_{1}\\dots w_{i - 1})$$\n",
        "\n",
        "$$\\implies PP(W) = e^{\\frac{1}{N} \\sum_{i = 1}^{N} -\\ln P(w_{i}|w_{1}\\dots w_{i - 1})}$$"
      ]
    },
    {
      "cell_type": "code",
      "execution_count": null,
      "metadata": {
        "colab": {
          "base_uri": "https://localhost:8080/"
        },
        "id": "Qz99lOhKEPgT",
        "outputId": "435bacfc-3dc5-4fd5-f38d-79572dcacd67"
      },
      "outputs": [
        {
          "name": "stdout",
          "output_type": "stream",
          "text": [
            "unigram validation perplexity: 1339.1979815063446\n",
            "bigram validation perplexity: 805.0404106590535\n",
            "trigram validation perplexity: 5123.0222464306\n"
          ]
        }
      ],
      "source": [
        "def get_perplexity(model, text):\n",
        "    \"\"\"Returns the perplexity of the model.\n",
        "    \n",
        "    Args:\n",
        "        text: a list of string tokens\n",
        "\n",
        "    Hints:\n",
        "        - you need to use your model.get_probability function\n",
        "        - you need to handle the edge case for the first n-1 words of text. You\n",
        "            can similarly pad with \"<eos>\" tokens\n",
        "        - you want to get the probability of each increasing sequence of words\n",
        "    \"\"\"\n",
        "    # BEGIN SOLUTION\n",
        "    sum = 0\n",
        "\n",
        "    curr = [\"<eos>\"] * (model.n - 1) # padding for initial words\n",
        "    for i in range(len(text)):\n",
        "      curr.append(text[i])\n",
        "      sum += -np.log(model.get_probability(curr))\n",
        "      curr.pop(0)\n",
        "    \n",
        "    return np.exp(1/len(text) * sum)\n",
        "    # END SOLUTION\n",
        "\n",
        "unigram_model = NGramModel(train_text, vocab, n=1)\n",
        "print('unigram validation perplexity:', get_perplexity(unigram_model, validation_text)) # should be around 1300-1400\n",
        "\n",
        "bigram_model = NGramModel(train_text, vocab, n=2)\n",
        "print('bigram validation perplexity:', get_perplexity(bigram_model, validation_text)) # should be around 800\n",
        "\n",
        "trigram_model = NGramModel(train_text, vocab, n=3)\n",
        "print('trigram validation perplexity:', get_perplexity(trigram_model, validation_text)) # this won't do very well (around 5000)"
      ]
    },
    {
      "cell_type": "markdown",
      "metadata": {
        "id": "79oQTkEMg-yG"
      },
      "source": [
        "### Deliverable 1\n",
        "\n",
        "Fill in the calculated perplexities given from the cell above and answer the question."
      ]
    },
    {
      "cell_type": "markdown",
      "metadata": {
        "id": "2i7Cgt1SgVbN"
      },
      "source": [
        "<!-- Do not remove this comment, it is used by the autograder: RqYJKsoTS6 -->\n",
        "\n",
        "Unigram validation perplexity: ***1339.1979815063446***\n",
        "\n",
        "Bigram validation perplexity: ***805.0404106590535***\n",
        "\n",
        "Trigram validation perplexity: ***5123.0222464306***"
      ]
    },
    {
      "cell_type": "markdown",
      "metadata": {
        "id": "23duN0Mkg7Zy"
      },
      "source": [
        "Question: Why does the trigram model have such a high perplexity?\n",
        "\n",
        "Answer: ***The trigram model having a high perplexity means that using the previous two words does not provide better information to predict the third word. Possible causes include mismatch of genre or dialect between the training and test sets and sparsity in vocabulary and word sequence diversity. It is also better to use lower-order ngrams when it is more advantageous to use *less context*. When inspecting the dataset, it appears that a lot of sentences are written in various tones and structures, and relatively uncommon words are used to describe the plot summaries of the famous books. The context can be a bit harder to extrapolate in this scenario, so the trigram model struggles more in predicting the words.***"
      ]
    },
    {
      "cell_type": "markdown",
      "metadata": {
        "id": "XBELAx_xcx4m"
      },
      "source": [
        "## Text Generation"
      ]
    },
    {
      "cell_type": "markdown",
      "metadata": {
        "id": "eGQqecOwcNfW"
      },
      "source": [
        "### Deliverable 2\n",
        "\n",
        "In this section, we will explore generating sentences using our models. Your job will be to simply fill-in the following function. You should try out the various models you have built and compare the types of sentences they generate. These models are of course very limited compared to current state of the art models that are able to model much longer sequences of text."
      ]
    },
    {
      "cell_type": "code",
      "execution_count": null,
      "metadata": {
        "id": "tetguEyrHppc"
      },
      "outputs": [],
      "source": [
        "def generate_text(model, n=20, seed=0, prefix=['<eos>', '<eos>']):\n",
        "    \"\"\"Returns a randomly generated sentence sampled from the probability\n",
        "    distribution given by a language model.\n",
        "\n",
        "    Args:\n",
        "        model: language model\n",
        "        n: number of words to generate\n",
        "        prefix: list of tokens to prompt your model\n",
        "    \n",
        "    Hints:\n",
        "        - you need to use your model.get_next_word_probabilities function\n",
        "        - you can use the random.choices function to sample from a list according to probabilities\n",
        "        - model.vocab.itos contains a list of words in the vocabulary\n",
        "    \"\"\"\n",
        "    random.seed(seed)\n",
        "    np.random.seed(seed)\n",
        "    # BEGIN SOLUTION\n",
        "    list_of_probabilities = model.get_next_word_probabilities(prefix)\n",
        "    return random.choices(model.vocab.itos, weights=list_of_probabilities, k=n)\n",
        "    # END SOLUTION"
      ]
    },
    {
      "cell_type": "code",
      "execution_count": null,
      "metadata": {
        "colab": {
          "base_uri": "https://localhost:8080/"
        },
        "id": "UK0ZF-gfcUOS",
        "outputId": "aa3dec05-6099-4271-af06-4a78f142bb38"
      },
      "outputs": [
        {
          "data": {
            "text/plain": [
              "['zed',\n",
              " 'arjun',\n",
              " 'after',\n",
              " 'a',\n",
              " 'three',\n",
              " 'when',\n",
              " 'demetrius',\n",
              " 'in',\n",
              " '{',\n",
              " 'general',\n",
              " '=',\n",
              " '{',\n",
              " 'a',\n",
              " 'travis',\n",
              " 'ravi',\n",
              " 'a',\n",
              " 'aris',\n",
              " 'paree',\n",
              " 'ángel',\n",
              " 'karthikeyan']"
            ]
          },
          "execution_count": 58,
          "metadata": {},
          "output_type": "execute_result"
        }
      ],
      "source": [
        "generate_text(unigram_model)"
      ]
    },
    {
      "cell_type": "markdown",
      "metadata": {
        "id": "Dk5HfTLlCVBI"
      },
      "source": [
        "## Optional: Neural Models\n",
        "\n",
        "As you can see from the text you generated in the previous section, the capabilities of classical language models is quite limited. They simply learn the meanings of words in terms of counts and are limited to a fixed window of words. In this section, we will explore neural methods for language modeling, which are a bit closer to what modern language models look like.\n",
        "\n",
        "You don't have to do anything in section and there is no deliverable. It is merely here for you to explore how neural language models work. "
      ]
    },
    {
      "cell_type": "markdown",
      "metadata": {
        "id": "TFw-oZhXcUId"
      },
      "source": [
        "### Neural N-Gram Model\n",
        "\n",
        "Now, we will train a neural network to model our language. We will use a feedforward network that takes in the previous $n-1$ words and outputs a distribution over the vocabulary which can be used to form a probability of the next word.\n",
        "\n",
        "We will implement this model using PyTorch and its various utilities for dataloading."
      ]
    },
    {
      "cell_type": "code",
      "execution_count": 60,
      "metadata": {
        "colab": {
          "base_uri": "https://localhost:8080/",
          "height": 146,
          "referenced_widgets": [
            "864af83dff294a2d8a3cd178956b216c",
            "1624d20115c14b57b5d8a3ca1fe8ab9e",
            "f78b2914b38b4f1ea79c89ed010bf018",
            "57be443b0b6c412c8d1e88b638ccbb13",
            "3e414ee7ca004d459a79a74a2b94918f",
            "164355025558447ea78c57e3884e7b93",
            "76f3c798ff474b6ba1f78f0610883340",
            "db349cba877644358ca54a35eb3d1b45",
            "75aa0491d4d7424fb0812823d91e30e9",
            "ba3587ae19fa42d688f1fcc8bccba705",
            "649502a26e234e56a02e233ef573cd55",
            "5fd8fa47f388408284a901116fbee220",
            "6f9694a519294fde8848b4c2f7c234dd",
            "2667125d28ac4e62bad39bc4928dd9cf",
            "43de4c06fb384b1f99b935e9aaaf4cfa",
            "312be8af1f3d4361a651c701dc65bc84",
            "29a59d769a2c4427b3b4aee51fb0f2d7",
            "fd006445b84e407a8bb1f6cc2ddc9812",
            "0fa29d44d01847da90c9e35f8461ddbe",
            "0d5d71a4da8247e08ba8232ac20f596b",
            "69358ebd6bf848e59b7b43b6d45831cb",
            "221d3d2f4877461c97c99d13e4d3d9fd",
            "c154eec391154b88b997b506b6c47c6c",
            "91b453be435e4095b2a8613e94db140c",
            "88d24c94962b48d1a63daf6e313e586a",
            "6ba427e5a2054035988736d8de15facd",
            "3c9092e693294b86be20dea94a2f1006",
            "c4ce6739bd3b4858af93d193b243ec05",
            "11fc51361a8d43a2b9d6d966a015f340",
            "b35cafb8d9034103aaa0734e4528ee6f",
            "8b470356f5344df581e61a9a8d25ca8d",
            "af98ffeb410f4bf88f54ef6338c6c97d",
            "c13de78a4e084ab885d2a934f2016576"
          ]
        },
        "id": "WuBVYDScI3w1",
        "outputId": "37bfbb5c-be0a-43be-a79c-8153a8db07c0"
      },
      "outputs": [
        {
          "name": "stdout",
          "output_type": "stream",
          "text": [
            "Epoch 0\n"
          ]
        },
        {
          "data": {
            "application/vnd.jupyter.widget-view+json": {
              "model_id": "864af83dff294a2d8a3cd178956b216c",
              "version_major": 2,
              "version_minor": 0
            },
            "text/plain": [
              "  0%|          | 0/15625 [00:00<?, ?it/s]"
            ]
          },
          "metadata": {},
          "output_type": "display_data"
        },
        {
          "name": "stdout",
          "output_type": "stream",
          "text": [
            "Validation score: tensor(384.2211)\n",
            "Epoch 1\n"
          ]
        },
        {
          "data": {
            "application/vnd.jupyter.widget-view+json": {
              "model_id": "5fd8fa47f388408284a901116fbee220",
              "version_major": 2,
              "version_minor": 0
            },
            "text/plain": [
              "  0%|          | 0/15625 [00:00<?, ?it/s]"
            ]
          },
          "metadata": {},
          "output_type": "display_data"
        },
        {
          "name": "stdout",
          "output_type": "stream",
          "text": [
            "Validation score: tensor(369.4301)\n",
            "Epoch 2\n"
          ]
        },
        {
          "data": {
            "application/vnd.jupyter.widget-view+json": {
              "model_id": "c154eec391154b88b997b506b6c47c6c",
              "version_major": 2,
              "version_minor": 0
            },
            "text/plain": [
              "  0%|          | 0/15625 [00:00<?, ?it/s]"
            ]
          },
          "metadata": {},
          "output_type": "display_data"
        },
        {
          "name": "stdout",
          "output_type": "stream",
          "text": [
            "Validation score: tensor(389.5921)\n",
            "neural trigram validation perplexity: tensor(369.4301)\n"
          ]
        }
      ],
      "source": [
        "class NgramDataset(torch.utils.data.Dataset):\n",
        "    def __init__(self, text_token_ids, n):\n",
        "        self.text_token_ids = text_token_ids\n",
        "        self.n = n\n",
        "\n",
        "    def __len__(self):\n",
        "        return len(self.text_token_ids)\n",
        "\n",
        "    def __getitem__(self, i):\n",
        "        if i < self.n-1:\n",
        "            prev_token_ids = [vocab.stoi['<eos>']] * (self.n-i-1) + self.text_token_ids[:i]\n",
        "        else:\n",
        "            prev_token_ids = self.text_token_ids[i-self.n+1:i]\n",
        "\n",
        "        x = torch.tensor(prev_token_ids)\n",
        "        y = torch.tensor(self.text_token_ids[i])\n",
        "        return x, y\n",
        "\n",
        "class NeuralNGram(nn.Module):\n",
        "    def __init__(self, n):\n",
        "        super().__init__()\n",
        "        self.n = n\n",
        "\n",
        "        self.linear_1 = nn.Linear((self.n - 1) * 128, 256)\n",
        "        self.linear_2 = nn.Linear(256, 128)\n",
        "        self.dropout = nn.Dropout(p=0.1)\n",
        "        self.linear_3 = nn.Linear(128, vocab_size)\n",
        "\n",
        "    def forward(self, x):\n",
        "        \"\"\"Returns a tensor of log probabilities with shape (batch, vocab_size).\n",
        "\n",
        "        Args:\n",
        "            x: tensor of input with shape (batch, n-1)\n",
        "        \"\"\"\n",
        "        x = F.embedding(x, weight=self.linear_3.weight) # weight tying\n",
        "        x = x.reshape(x.size(0), -1)\n",
        "        x = self.linear_1(x)\n",
        "        x = F.relu(x)\n",
        "        x = self.dropout(x)\n",
        "        x = self.linear_2(x)\n",
        "        x = self.linear_3(x)\n",
        "        return x\n",
        "\n",
        "class NeuralNGramModel:\n",
        "    def __init__(self, n, vocab):\n",
        "        self.n = n\n",
        "        self.vocab = vocab\n",
        "        self.network = NeuralNGram(n).to(device)\n",
        "\n",
        "    def train(self):\n",
        "        dataset = NgramDataset(ids(self.vocab, train_text), self.n)\n",
        "        train_loader = torch.utils.data.DataLoader(dataset, batch_size=128, shuffle=True)\n",
        "        optim = torch.optim.Adam(self.network.parameters())\n",
        "        prev_validation = float(\"inf\")\n",
        "\n",
        "        for epoch in range(3):\n",
        "            print(\"Epoch\", epoch)\n",
        "            self.network.train()\n",
        "\n",
        "            for prev, curr in tqdm.notebook.tqdm(train_loader, leave=False):\n",
        "                prev, curr = prev.to(device), curr.to(device)\n",
        "                optim.zero_grad()\n",
        "                output = self.network(prev)\n",
        "                loss = F.cross_entropy(output, curr)\n",
        "                loss.backward()\n",
        "                optim.step()\n",
        "\n",
        "            # save the model with the best validation perplexity\n",
        "            validation_pp = get_perplexity(self, validation_text)\n",
        "            print(\"Validation score:\", validation_pp)\n",
        "\n",
        "            if validation_pp < prev_validation:\n",
        "                torch.save(self.network.state_dict(), \"neural_language_model.pkl\")\n",
        "                prev_validation = validation_pp\n",
        "        \n",
        "        # load best saved model\n",
        "        self.network.load_state_dict(torch.load(\"neural_language_model.pkl\"))\n",
        "    \n",
        "    def get_probability(self, text):\n",
        "        assert len(text) >= self.n, f\"Expected at least {self.n} words; got {len(text)} words. \\nGiven text: {text}\"\n",
        "        target_id = ids(self.vocab, [text[-1]])[0]\n",
        "        return self.get_next_word_probabilities(text[:-1])[target_id]\n",
        "\n",
        "    def get_next_word_probabilities(self, text_prefix):\n",
        "        self.network.eval()\n",
        "        while len(text_prefix) < self.n - 1:\n",
        "            text_prefix = [\"<eos>\"] + text_prefix\n",
        "        if len(text_prefix) > self.n - 1:\n",
        "            text_prefix = text_prefix[len(text_prefix) - self.n + 1 :]\n",
        "        x = torch.Tensor(ids(self.vocab, text_prefix)).to(torch.int64).to(device)\n",
        "        x = x.reshape((1, len(x)))\n",
        "        with torch.no_grad():\n",
        "            probs = F.softmax(self.network(x), dim=1)[0]\n",
        "        return probs.cpu()\n",
        "\n",
        "neural_trigram_model = NeuralNGramModel(3, vocab)\n",
        "neural_trigram_model.train()\n",
        "print('neural trigram validation perplexity:', get_perplexity(neural_trigram_model, validation_text))"
      ]
    },
    {
      "cell_type": "markdown",
      "metadata": {
        "id": "H8jFjmrTcFIJ"
      },
      "source": [
        "### RNN Model\n",
        "\n",
        "Now, we will train a Recurrnt Neural Network to model our language. This is a much more flexible architecture for language modeling since it is able to handle inputs of any length and can thus model longer ranges of text."
      ]
    },
    {
      "cell_type": "code",
      "execution_count": null,
      "metadata": {
        "id": "Y4W-4ExjdFCS"
      },
      "outputs": [],
      "source": [
        "num_hidden_rnn_layers = 1\n",
        "class RNNNetwork(nn.Module):\n",
        "\n",
        "    def __init__(self):\n",
        "        super().__init__()\n",
        "\n",
        "        self.rnn = nn.RNN(128, 128, num_hidden_rnn_layers, dropout=0.5).to(device)\n",
        "        self.linear = nn.Linear(128, 128).to(device)\n",
        "        self.linear_2 = nn.Linear(128, vocab_size).to(device)\n",
        "        self.dp = nn.Dropout(0.5)\n",
        "\n",
        "    def forward(self, x, state):\n",
        "        x = F.embedding(x, weight=self.linear_2.weight) # weight tying\n",
        "        x, state = self.rnn(x, state)\n",
        "        x = self.dp(x)\n",
        "        x = self.linear(x)\n",
        "        x = self.linear_2(x)\n",
        "        return x, state\n",
        "\n",
        "class RNNModel:\n",
        "\n",
        "    def __init__(self, vocab):\n",
        "        self.n = 2 # makes it compatible with other n-gram models\n",
        "        self.vocab = vocab\n",
        "        self.network = RNNNetwork().to(device)\n",
        "\n",
        "    def train(self):\n",
        "        train_iterator = torchtext.data.BPTTIterator(train_dataset, batch_size=64, \n",
        "                                                     bptt_len=32, device=device)\n",
        "  \n",
        "        h = torch.autograd.Variable(torch.zeros(num_hidden_rnn_layers, 64, self.network.rnn.hidden_size), requires_grad=False).to(device)\n",
        "        optim = torch.optim.Adam(self.network.parameters())\n",
        "        prev_validation = float('inf')\n",
        "        for epoch in range(20):\n",
        "          print('Epoch', epoch + 1)\n",
        "          self.network.train()\n",
        "          for batch in tqdm.notebook.tqdm(train_iterator, leave=False):\n",
        "            assert self.network.training, 'make sure your network is in train mode with `.train()`'\n",
        "            text, target = batch.text, batch.target\n",
        "            text, target = text.to(torch.int64).to(device), target.to(torch.int64).to(device)\n",
        "            optim.zero_grad()\n",
        "\n",
        "            output, h = self.network(text, h)\n",
        "            output = output.view(-1, output.shape[-1])\n",
        "            target = target.view(-1,)\n",
        "            loss = F.cross_entropy(output, target)\n",
        "            loss.backward()\n",
        "            optim.step()\n",
        "            h = h.detach()\n",
        "\n",
        "          validation_pp = get_perplexity(self, validation_text)\n",
        "          print('Validation score:', validation_pp)\n",
        "\n",
        "          if validation_pp < prev_validation:\n",
        "            torch.save(self.network.state_dict(), \"rnn_language_model.pkl\")\n",
        "            prev_validation = validation_pp\n",
        "\n",
        "        self.network.load_state_dict(torch.load(\"rnn_language_model.pkl\"))\n",
        "    \n",
        "    def get_probability(self, text):\n",
        "        target_id = ids(self.vocab, [text[-1]])[0]\n",
        "        return self.get_next_word_probabilities(text[-32:-1])[target_id]\n",
        "\n",
        "    def get_next_word_probabilities(self, text_prefix):\n",
        "        prefix_token_tensor = torch.tensor(ids(self.vocab, text_prefix), device=device).view(-1, 1)\n",
        "        prefix_token_tensor = prefix_token_tensor.to(torch.int64).to(device)\n",
        "        h = torch.autograd.Variable(next(self.network.parameters()).data.new(num_hidden_rnn_layers, 1, self.network.rnn.hidden_size), requires_grad=False)\n",
        "        self.network.eval()\n",
        "        with torch.no_grad():\n",
        "          output, _ = self.network(prefix_token_tensor, h)\n",
        "          output = output.squeeze(dim=1)\n",
        "          probs = F.softmax(output, dim=-1)\n",
        "        return probs[-1]\n",
        "\n",
        "rnn_model = RNNModel(vocab)\n",
        "rnn_model.train()\n",
        "print('rnn validation perplexity:', get_perplexity(rnn_model, validation_text))"
      ]
    },
    {
      "cell_type": "markdown",
      "metadata": {
        "id": "6So9wKWlhIyl"
      },
      "source": [
        "## Submission\n",
        "\n",
        "Congrats on making it to the end of the notebook. Please download this notebook and upload it to gradescope. Make sure all of the cells where your answers are expected are filled in."
      ]
    }
  ],
  "metadata": {
    "accelerator": "GPU",
    "colab": {
      "collapsed_sections": [],
      "include_colab_link": true,
      "name": "HW_4",
      "provenance": [],
      "toc_visible": true
    },
    "kernelspec": {
      "display_name": "Python 3",
      "name": "python3"
    },
    "language_info": {
      "codemirror_mode": {
        "name": "ipython",
        "version": 3
      },
      "file_extension": ".py",
      "mimetype": "text/x-python",
      "name": "python",
      "nbconvert_exporter": "python",
      "pygments_lexer": "ipython3",
      "version": "3.9.4"
    },
    "widgets": {
      "application/vnd.jupyter.widget-state+json": {
        "03bca0d5c8ff46288e9e9204965506dd": {
          "model_module": "@jupyter-widgets/controls",
          "model_module_version": "1.5.0",
          "model_name": "FloatProgressModel",
          "state": {
            "_dom_classes": [],
            "_model_module": "@jupyter-widgets/controls",
            "_model_module_version": "1.5.0",
            "_model_name": "FloatProgressModel",
            "_view_count": null,
            "_view_module": "@jupyter-widgets/controls",
            "_view_module_version": "1.5.0",
            "_view_name": "ProgressView",
            "bar_style": "success",
            "description": "",
            "description_tooltip": null,
            "layout": "IPY_MODEL_aaa03cfd503c4699846a1926317e60c4",
            "max": 42303,
            "min": 0,
            "orientation": "horizontal",
            "style": "IPY_MODEL_333247b93b0d49a5856dfd592f0c8365",
            "value": 42303
          }
        },
        "0d5d71a4da8247e08ba8232ac20f596b": {
          "model_module": "@jupyter-widgets/base",
          "model_module_version": "1.2.0",
          "model_name": "LayoutModel",
          "state": {
            "_model_module": "@jupyter-widgets/base",
            "_model_module_version": "1.2.0",
            "_model_name": "LayoutModel",
            "_view_count": null,
            "_view_module": "@jupyter-widgets/base",
            "_view_module_version": "1.2.0",
            "_view_name": "LayoutView",
            "align_content": null,
            "align_items": null,
            "align_self": null,
            "border": null,
            "bottom": null,
            "display": null,
            "flex": null,
            "flex_flow": null,
            "grid_area": null,
            "grid_auto_columns": null,
            "grid_auto_flow": null,
            "grid_auto_rows": null,
            "grid_column": null,
            "grid_gap": null,
            "grid_row": null,
            "grid_template_areas": null,
            "grid_template_columns": null,
            "grid_template_rows": null,
            "height": null,
            "justify_content": null,
            "justify_items": null,
            "left": null,
            "margin": null,
            "max_height": null,
            "max_width": null,
            "min_height": null,
            "min_width": null,
            "object_fit": null,
            "object_position": null,
            "order": null,
            "overflow": null,
            "overflow_x": null,
            "overflow_y": null,
            "padding": null,
            "right": null,
            "top": null,
            "visibility": null,
            "width": null
          }
        },
        "0fa29d44d01847da90c9e35f8461ddbe": {
          "model_module": "@jupyter-widgets/controls",
          "model_module_version": "1.5.0",
          "model_name": "ProgressStyleModel",
          "state": {
            "_model_module": "@jupyter-widgets/controls",
            "_model_module_version": "1.5.0",
            "_model_name": "ProgressStyleModel",
            "_view_count": null,
            "_view_module": "@jupyter-widgets/base",
            "_view_module_version": "1.2.0",
            "_view_name": "StyleView",
            "bar_color": null,
            "description_width": ""
          }
        },
        "11fc51361a8d43a2b9d6d966a015f340": {
          "model_module": "@jupyter-widgets/base",
          "model_module_version": "1.2.0",
          "model_name": "LayoutModel",
          "state": {
            "_model_module": "@jupyter-widgets/base",
            "_model_module_version": "1.2.0",
            "_model_name": "LayoutModel",
            "_view_count": null,
            "_view_module": "@jupyter-widgets/base",
            "_view_module_version": "1.2.0",
            "_view_name": "LayoutView",
            "align_content": null,
            "align_items": null,
            "align_self": null,
            "border": null,
            "bottom": null,
            "display": null,
            "flex": null,
            "flex_flow": null,
            "grid_area": null,
            "grid_auto_columns": null,
            "grid_auto_flow": null,
            "grid_auto_rows": null,
            "grid_column": null,
            "grid_gap": null,
            "grid_row": null,
            "grid_template_areas": null,
            "grid_template_columns": null,
            "grid_template_rows": null,
            "height": null,
            "justify_content": null,
            "justify_items": null,
            "left": null,
            "margin": null,
            "max_height": null,
            "max_width": null,
            "min_height": null,
            "min_width": null,
            "object_fit": null,
            "object_position": null,
            "order": null,
            "overflow": null,
            "overflow_x": null,
            "overflow_y": null,
            "padding": null,
            "right": null,
            "top": null,
            "visibility": null,
            "width": null
          }
        },
        "152684c87e24416797a40db7b8d69a34": {
          "model_module": "@jupyter-widgets/controls",
          "model_module_version": "1.5.0",
          "model_name": "DescriptionStyleModel",
          "state": {
            "_model_module": "@jupyter-widgets/controls",
            "_model_module_version": "1.5.0",
            "_model_name": "DescriptionStyleModel",
            "_view_count": null,
            "_view_module": "@jupyter-widgets/base",
            "_view_module_version": "1.2.0",
            "_view_name": "StyleView",
            "description_width": ""
          }
        },
        "1624d20115c14b57b5d8a3ca1fe8ab9e": {
          "model_module": "@jupyter-widgets/base",
          "model_module_version": "1.2.0",
          "model_name": "LayoutModel",
          "state": {
            "_model_module": "@jupyter-widgets/base",
            "_model_module_version": "1.2.0",
            "_model_name": "LayoutModel",
            "_view_count": null,
            "_view_module": "@jupyter-widgets/base",
            "_view_module_version": "1.2.0",
            "_view_name": "LayoutView",
            "align_content": null,
            "align_items": null,
            "align_self": null,
            "border": null,
            "bottom": null,
            "display": null,
            "flex": null,
            "flex_flow": null,
            "grid_area": null,
            "grid_auto_columns": null,
            "grid_auto_flow": null,
            "grid_auto_rows": null,
            "grid_column": null,
            "grid_gap": null,
            "grid_row": null,
            "grid_template_areas": null,
            "grid_template_columns": null,
            "grid_template_rows": null,
            "height": null,
            "justify_content": null,
            "justify_items": null,
            "left": null,
            "margin": null,
            "max_height": null,
            "max_width": null,
            "min_height": null,
            "min_width": null,
            "object_fit": null,
            "object_position": null,
            "order": null,
            "overflow": null,
            "overflow_x": null,
            "overflow_y": null,
            "padding": null,
            "right": null,
            "top": null,
            "visibility": null,
            "width": null
          }
        },
        "164355025558447ea78c57e3884e7b93": {
          "model_module": "@jupyter-widgets/controls",
          "model_module_version": "1.5.0",
          "model_name": "DescriptionStyleModel",
          "state": {
            "_model_module": "@jupyter-widgets/controls",
            "_model_module_version": "1.5.0",
            "_model_name": "DescriptionStyleModel",
            "_view_count": null,
            "_view_module": "@jupyter-widgets/base",
            "_view_module_version": "1.2.0",
            "_view_name": "StyleView",
            "description_width": ""
          }
        },
        "1824189c652047c8a25431072071dcb9": {
          "model_module": "@jupyter-widgets/controls",
          "model_module_version": "1.5.0",
          "model_name": "HTMLModel",
          "state": {
            "_dom_classes": [],
            "_model_module": "@jupyter-widgets/controls",
            "_model_module_version": "1.5.0",
            "_model_name": "HTMLModel",
            "_view_count": null,
            "_view_module": "@jupyter-widgets/controls",
            "_view_module_version": "1.5.0",
            "_view_name": "HTMLView",
            "description": "",
            "description_tooltip": null,
            "layout": "IPY_MODEL_eea2e5eb6ec7408389ba5f8c6965e2f2",
            "placeholder": "​",
            "style": "IPY_MODEL_152684c87e24416797a40db7b8d69a34",
            "value": " 42303/42303 [02:02&lt;00:00, 346.17it/s]"
          }
        },
        "1ea1a3baa0604bd49c82b19ea6a0bdfe": {
          "model_module": "@jupyter-widgets/controls",
          "model_module_version": "1.5.0",
          "model_name": "DescriptionStyleModel",
          "state": {
            "_model_module": "@jupyter-widgets/controls",
            "_model_module_version": "1.5.0",
            "_model_name": "DescriptionStyleModel",
            "_view_count": null,
            "_view_module": "@jupyter-widgets/base",
            "_view_module_version": "1.2.0",
            "_view_name": "StyleView",
            "description_width": ""
          }
        },
        "221d3d2f4877461c97c99d13e4d3d9fd": {
          "model_module": "@jupyter-widgets/base",
          "model_module_version": "1.2.0",
          "model_name": "LayoutModel",
          "state": {
            "_model_module": "@jupyter-widgets/base",
            "_model_module_version": "1.2.0",
            "_model_name": "LayoutModel",
            "_view_count": null,
            "_view_module": "@jupyter-widgets/base",
            "_view_module_version": "1.2.0",
            "_view_name": "LayoutView",
            "align_content": null,
            "align_items": null,
            "align_self": null,
            "border": null,
            "bottom": null,
            "display": null,
            "flex": null,
            "flex_flow": null,
            "grid_area": null,
            "grid_auto_columns": null,
            "grid_auto_flow": null,
            "grid_auto_rows": null,
            "grid_column": null,
            "grid_gap": null,
            "grid_row": null,
            "grid_template_areas": null,
            "grid_template_columns": null,
            "grid_template_rows": null,
            "height": null,
            "justify_content": null,
            "justify_items": null,
            "left": null,
            "margin": null,
            "max_height": null,
            "max_width": null,
            "min_height": null,
            "min_width": null,
            "object_fit": null,
            "object_position": null,
            "order": null,
            "overflow": null,
            "overflow_x": null,
            "overflow_y": null,
            "padding": null,
            "right": null,
            "top": null,
            "visibility": null,
            "width": null
          }
        },
        "2667125d28ac4e62bad39bc4928dd9cf": {
          "model_module": "@jupyter-widgets/controls",
          "model_module_version": "1.5.0",
          "model_name": "HTMLModel",
          "state": {
            "_dom_classes": [],
            "_model_module": "@jupyter-widgets/controls",
            "_model_module_version": "1.5.0",
            "_model_name": "HTMLModel",
            "_view_count": null,
            "_view_module": "@jupyter-widgets/controls",
            "_view_module_version": "1.5.0",
            "_view_name": "HTMLView",
            "description": "",
            "description_tooltip": null,
            "layout": "IPY_MODEL_fd006445b84e407a8bb1f6cc2ddc9812",
            "placeholder": "​",
            "style": "IPY_MODEL_29a59d769a2c4427b3b4aee51fb0f2d7",
            "value": "100%"
          }
        },
        "29a59d769a2c4427b3b4aee51fb0f2d7": {
          "model_module": "@jupyter-widgets/controls",
          "model_module_version": "1.5.0",
          "model_name": "DescriptionStyleModel",
          "state": {
            "_model_module": "@jupyter-widgets/controls",
            "_model_module_version": "1.5.0",
            "_model_name": "DescriptionStyleModel",
            "_view_count": null,
            "_view_module": "@jupyter-widgets/base",
            "_view_module_version": "1.2.0",
            "_view_name": "StyleView",
            "description_width": ""
          }
        },
        "312be8af1f3d4361a651c701dc65bc84": {
          "model_module": "@jupyter-widgets/controls",
          "model_module_version": "1.5.0",
          "model_name": "HTMLModel",
          "state": {
            "_dom_classes": [],
            "_model_module": "@jupyter-widgets/controls",
            "_model_module_version": "1.5.0",
            "_model_name": "HTMLModel",
            "_view_count": null,
            "_view_module": "@jupyter-widgets/controls",
            "_view_module_version": "1.5.0",
            "_view_name": "HTMLView",
            "description": "",
            "description_tooltip": null,
            "layout": "IPY_MODEL_221d3d2f4877461c97c99d13e4d3d9fd",
            "placeholder": "​",
            "style": "IPY_MODEL_69358ebd6bf848e59b7b43b6d45831cb",
            "value": " 15623/15625 [03:40&lt;00:00, 70.60it/s]"
          }
        },
        "333247b93b0d49a5856dfd592f0c8365": {
          "model_module": "@jupyter-widgets/controls",
          "model_module_version": "1.5.0",
          "model_name": "ProgressStyleModel",
          "state": {
            "_model_module": "@jupyter-widgets/controls",
            "_model_module_version": "1.5.0",
            "_model_name": "ProgressStyleModel",
            "_view_count": null,
            "_view_module": "@jupyter-widgets/base",
            "_view_module_version": "1.2.0",
            "_view_name": "StyleView",
            "bar_color": null,
            "description_width": ""
          }
        },
        "36db557c2c4541f18a4051a39efca6f7": {
          "model_module": "@jupyter-widgets/controls",
          "model_module_version": "1.5.0",
          "model_name": "HBoxModel",
          "state": {
            "_dom_classes": [],
            "_model_module": "@jupyter-widgets/controls",
            "_model_module_version": "1.5.0",
            "_model_name": "HBoxModel",
            "_view_count": null,
            "_view_module": "@jupyter-widgets/controls",
            "_view_module_version": "1.5.0",
            "_view_name": "HBoxView",
            "box_style": "",
            "children": [
              "IPY_MODEL_75b57c0b4ecc48c3b210b4ab617a4c19",
              "IPY_MODEL_03bca0d5c8ff46288e9e9204965506dd",
              "IPY_MODEL_1824189c652047c8a25431072071dcb9"
            ],
            "layout": "IPY_MODEL_3999a189ebca45fda8d7a4955d4619df"
          }
        },
        "3999a189ebca45fda8d7a4955d4619df": {
          "model_module": "@jupyter-widgets/base",
          "model_module_version": "1.2.0",
          "model_name": "LayoutModel",
          "state": {
            "_model_module": "@jupyter-widgets/base",
            "_model_module_version": "1.2.0",
            "_model_name": "LayoutModel",
            "_view_count": null,
            "_view_module": "@jupyter-widgets/base",
            "_view_module_version": "1.2.0",
            "_view_name": "LayoutView",
            "align_content": null,
            "align_items": null,
            "align_self": null,
            "border": null,
            "bottom": null,
            "display": null,
            "flex": null,
            "flex_flow": null,
            "grid_area": null,
            "grid_auto_columns": null,
            "grid_auto_flow": null,
            "grid_auto_rows": null,
            "grid_column": null,
            "grid_gap": null,
            "grid_row": null,
            "grid_template_areas": null,
            "grid_template_columns": null,
            "grid_template_rows": null,
            "height": null,
            "justify_content": null,
            "justify_items": null,
            "left": null,
            "margin": null,
            "max_height": null,
            "max_width": null,
            "min_height": null,
            "min_width": null,
            "object_fit": null,
            "object_position": null,
            "order": null,
            "overflow": null,
            "overflow_x": null,
            "overflow_y": null,
            "padding": null,
            "right": null,
            "top": null,
            "visibility": null,
            "width": null
          }
        },
        "3c9092e693294b86be20dea94a2f1006": {
          "model_module": "@jupyter-widgets/controls",
          "model_module_version": "1.5.0",
          "model_name": "HTMLModel",
          "state": {
            "_dom_classes": [],
            "_model_module": "@jupyter-widgets/controls",
            "_model_module_version": "1.5.0",
            "_model_name": "HTMLModel",
            "_view_count": null,
            "_view_module": "@jupyter-widgets/controls",
            "_view_module_version": "1.5.0",
            "_view_name": "HTMLView",
            "description": "",
            "description_tooltip": null,
            "layout": "IPY_MODEL_c13de78a4e084ab885d2a934f2016576",
            "placeholder": "​",
            "style": "IPY_MODEL_af98ffeb410f4bf88f54ef6338c6c97d",
            "value": " 15622/15625 [03:40&lt;00:00, 70.73it/s]"
          }
        },
        "3e414ee7ca004d459a79a74a2b94918f": {
          "model_module": "@jupyter-widgets/controls",
          "model_module_version": "1.5.0",
          "model_name": "HTMLModel",
          "state": {
            "_dom_classes": [],
            "_model_module": "@jupyter-widgets/controls",
            "_model_module_version": "1.5.0",
            "_model_name": "HTMLModel",
            "_view_count": null,
            "_view_module": "@jupyter-widgets/controls",
            "_view_module_version": "1.5.0",
            "_view_name": "HTMLView",
            "description": "",
            "description_tooltip": null,
            "layout": "IPY_MODEL_649502a26e234e56a02e233ef573cd55",
            "placeholder": "​",
            "style": "IPY_MODEL_ba3587ae19fa42d688f1fcc8bccba705",
            "value": " 15618/15625 [03:40&lt;00:00, 71.15it/s]"
          }
        },
        "43de4c06fb384b1f99b935e9aaaf4cfa": {
          "model_module": "@jupyter-widgets/controls",
          "model_module_version": "1.5.0",
          "model_name": "FloatProgressModel",
          "state": {
            "_dom_classes": [],
            "_model_module": "@jupyter-widgets/controls",
            "_model_module_version": "1.5.0",
            "_model_name": "FloatProgressModel",
            "_view_count": null,
            "_view_module": "@jupyter-widgets/controls",
            "_view_module_version": "1.5.0",
            "_view_name": "ProgressView",
            "bar_style": "",
            "description": "",
            "description_tooltip": null,
            "layout": "IPY_MODEL_0d5d71a4da8247e08ba8232ac20f596b",
            "max": 15625,
            "min": 0,
            "orientation": "horizontal",
            "style": "IPY_MODEL_0fa29d44d01847da90c9e35f8461ddbe",
            "value": 15625
          }
        },
        "57be443b0b6c412c8d1e88b638ccbb13": {
          "model_module": "@jupyter-widgets/controls",
          "model_module_version": "1.5.0",
          "model_name": "FloatProgressModel",
          "state": {
            "_dom_classes": [],
            "_model_module": "@jupyter-widgets/controls",
            "_model_module_version": "1.5.0",
            "_model_name": "FloatProgressModel",
            "_view_count": null,
            "_view_module": "@jupyter-widgets/controls",
            "_view_module_version": "1.5.0",
            "_view_name": "ProgressView",
            "bar_style": "",
            "description": "",
            "description_tooltip": null,
            "layout": "IPY_MODEL_75aa0491d4d7424fb0812823d91e30e9",
            "max": 15625,
            "min": 0,
            "orientation": "horizontal",
            "style": "IPY_MODEL_db349cba877644358ca54a35eb3d1b45",
            "value": 15625
          }
        },
        "5fd8fa47f388408284a901116fbee220": {
          "model_module": "@jupyter-widgets/controls",
          "model_module_version": "1.5.0",
          "model_name": "HBoxModel",
          "state": {
            "_dom_classes": [],
            "_model_module": "@jupyter-widgets/controls",
            "_model_module_version": "1.5.0",
            "_model_name": "HBoxModel",
            "_view_count": null,
            "_view_module": "@jupyter-widgets/controls",
            "_view_module_version": "1.5.0",
            "_view_name": "HBoxView",
            "box_style": "",
            "children": [
              "IPY_MODEL_2667125d28ac4e62bad39bc4928dd9cf",
              "IPY_MODEL_43de4c06fb384b1f99b935e9aaaf4cfa",
              "IPY_MODEL_312be8af1f3d4361a651c701dc65bc84"
            ],
            "layout": "IPY_MODEL_6f9694a519294fde8848b4c2f7c234dd"
          }
        },
        "649502a26e234e56a02e233ef573cd55": {
          "model_module": "@jupyter-widgets/base",
          "model_module_version": "1.2.0",
          "model_name": "LayoutModel",
          "state": {
            "_model_module": "@jupyter-widgets/base",
            "_model_module_version": "1.2.0",
            "_model_name": "LayoutModel",
            "_view_count": null,
            "_view_module": "@jupyter-widgets/base",
            "_view_module_version": "1.2.0",
            "_view_name": "LayoutView",
            "align_content": null,
            "align_items": null,
            "align_self": null,
            "border": null,
            "bottom": null,
            "display": null,
            "flex": null,
            "flex_flow": null,
            "grid_area": null,
            "grid_auto_columns": null,
            "grid_auto_flow": null,
            "grid_auto_rows": null,
            "grid_column": null,
            "grid_gap": null,
            "grid_row": null,
            "grid_template_areas": null,
            "grid_template_columns": null,
            "grid_template_rows": null,
            "height": null,
            "justify_content": null,
            "justify_items": null,
            "left": null,
            "margin": null,
            "max_height": null,
            "max_width": null,
            "min_height": null,
            "min_width": null,
            "object_fit": null,
            "object_position": null,
            "order": null,
            "overflow": null,
            "overflow_x": null,
            "overflow_y": null,
            "padding": null,
            "right": null,
            "top": null,
            "visibility": null,
            "width": null
          }
        },
        "69358ebd6bf848e59b7b43b6d45831cb": {
          "model_module": "@jupyter-widgets/controls",
          "model_module_version": "1.5.0",
          "model_name": "DescriptionStyleModel",
          "state": {
            "_model_module": "@jupyter-widgets/controls",
            "_model_module_version": "1.5.0",
            "_model_name": "DescriptionStyleModel",
            "_view_count": null,
            "_view_module": "@jupyter-widgets/base",
            "_view_module_version": "1.2.0",
            "_view_name": "StyleView",
            "description_width": ""
          }
        },
        "6ba427e5a2054035988736d8de15facd": {
          "model_module": "@jupyter-widgets/controls",
          "model_module_version": "1.5.0",
          "model_name": "FloatProgressModel",
          "state": {
            "_dom_classes": [],
            "_model_module": "@jupyter-widgets/controls",
            "_model_module_version": "1.5.0",
            "_model_name": "FloatProgressModel",
            "_view_count": null,
            "_view_module": "@jupyter-widgets/controls",
            "_view_module_version": "1.5.0",
            "_view_name": "ProgressView",
            "bar_style": "",
            "description": "",
            "description_tooltip": null,
            "layout": "IPY_MODEL_8b470356f5344df581e61a9a8d25ca8d",
            "max": 15625,
            "min": 0,
            "orientation": "horizontal",
            "style": "IPY_MODEL_b35cafb8d9034103aaa0734e4528ee6f",
            "value": 15625
          }
        },
        "6f9694a519294fde8848b4c2f7c234dd": {
          "model_module": "@jupyter-widgets/base",
          "model_module_version": "1.2.0",
          "model_name": "LayoutModel",
          "state": {
            "_model_module": "@jupyter-widgets/base",
            "_model_module_version": "1.2.0",
            "_model_name": "LayoutModel",
            "_view_count": null,
            "_view_module": "@jupyter-widgets/base",
            "_view_module_version": "1.2.0",
            "_view_name": "LayoutView",
            "align_content": null,
            "align_items": null,
            "align_self": null,
            "border": null,
            "bottom": null,
            "display": null,
            "flex": null,
            "flex_flow": null,
            "grid_area": null,
            "grid_auto_columns": null,
            "grid_auto_flow": null,
            "grid_auto_rows": null,
            "grid_column": null,
            "grid_gap": null,
            "grid_row": null,
            "grid_template_areas": null,
            "grid_template_columns": null,
            "grid_template_rows": null,
            "height": null,
            "justify_content": null,
            "justify_items": null,
            "left": null,
            "margin": null,
            "max_height": null,
            "max_width": null,
            "min_height": null,
            "min_width": null,
            "object_fit": null,
            "object_position": null,
            "order": null,
            "overflow": null,
            "overflow_x": null,
            "overflow_y": null,
            "padding": null,
            "right": null,
            "top": null,
            "visibility": null,
            "width": null
          }
        },
        "75aa0491d4d7424fb0812823d91e30e9": {
          "model_module": "@jupyter-widgets/base",
          "model_module_version": "1.2.0",
          "model_name": "LayoutModel",
          "state": {
            "_model_module": "@jupyter-widgets/base",
            "_model_module_version": "1.2.0",
            "_model_name": "LayoutModel",
            "_view_count": null,
            "_view_module": "@jupyter-widgets/base",
            "_view_module_version": "1.2.0",
            "_view_name": "LayoutView",
            "align_content": null,
            "align_items": null,
            "align_self": null,
            "border": null,
            "bottom": null,
            "display": null,
            "flex": null,
            "flex_flow": null,
            "grid_area": null,
            "grid_auto_columns": null,
            "grid_auto_flow": null,
            "grid_auto_rows": null,
            "grid_column": null,
            "grid_gap": null,
            "grid_row": null,
            "grid_template_areas": null,
            "grid_template_columns": null,
            "grid_template_rows": null,
            "height": null,
            "justify_content": null,
            "justify_items": null,
            "left": null,
            "margin": null,
            "max_height": null,
            "max_width": null,
            "min_height": null,
            "min_width": null,
            "object_fit": null,
            "object_position": null,
            "order": null,
            "overflow": null,
            "overflow_x": null,
            "overflow_y": null,
            "padding": null,
            "right": null,
            "top": null,
            "visibility": null,
            "width": null
          }
        },
        "75b57c0b4ecc48c3b210b4ab617a4c19": {
          "model_module": "@jupyter-widgets/controls",
          "model_module_version": "1.5.0",
          "model_name": "HTMLModel",
          "state": {
            "_dom_classes": [],
            "_model_module": "@jupyter-widgets/controls",
            "_model_module_version": "1.5.0",
            "_model_name": "HTMLModel",
            "_view_count": null,
            "_view_module": "@jupyter-widgets/controls",
            "_view_module_version": "1.5.0",
            "_view_name": "HTMLView",
            "description": "",
            "description_tooltip": null,
            "layout": "IPY_MODEL_f44c78920f374dfc958dc7199ee89658",
            "placeholder": "​",
            "style": "IPY_MODEL_1ea1a3baa0604bd49c82b19ea6a0bdfe",
            "value": "100%"
          }
        },
        "76f3c798ff474b6ba1f78f0610883340": {
          "model_module": "@jupyter-widgets/base",
          "model_module_version": "1.2.0",
          "model_name": "LayoutModel",
          "state": {
            "_model_module": "@jupyter-widgets/base",
            "_model_module_version": "1.2.0",
            "_model_name": "LayoutModel",
            "_view_count": null,
            "_view_module": "@jupyter-widgets/base",
            "_view_module_version": "1.2.0",
            "_view_name": "LayoutView",
            "align_content": null,
            "align_items": null,
            "align_self": null,
            "border": null,
            "bottom": null,
            "display": null,
            "flex": null,
            "flex_flow": null,
            "grid_area": null,
            "grid_auto_columns": null,
            "grid_auto_flow": null,
            "grid_auto_rows": null,
            "grid_column": null,
            "grid_gap": null,
            "grid_row": null,
            "grid_template_areas": null,
            "grid_template_columns": null,
            "grid_template_rows": null,
            "height": null,
            "justify_content": null,
            "justify_items": null,
            "left": null,
            "margin": null,
            "max_height": null,
            "max_width": null,
            "min_height": null,
            "min_width": null,
            "object_fit": null,
            "object_position": null,
            "order": null,
            "overflow": null,
            "overflow_x": null,
            "overflow_y": null,
            "padding": null,
            "right": null,
            "top": null,
            "visibility": null,
            "width": null
          }
        },
        "864af83dff294a2d8a3cd178956b216c": {
          "model_module": "@jupyter-widgets/controls",
          "model_module_version": "1.5.0",
          "model_name": "HBoxModel",
          "state": {
            "_dom_classes": [],
            "_model_module": "@jupyter-widgets/controls",
            "_model_module_version": "1.5.0",
            "_model_name": "HBoxModel",
            "_view_count": null,
            "_view_module": "@jupyter-widgets/controls",
            "_view_module_version": "1.5.0",
            "_view_name": "HBoxView",
            "box_style": "",
            "children": [
              "IPY_MODEL_f78b2914b38b4f1ea79c89ed010bf018",
              "IPY_MODEL_57be443b0b6c412c8d1e88b638ccbb13",
              "IPY_MODEL_3e414ee7ca004d459a79a74a2b94918f"
            ],
            "layout": "IPY_MODEL_1624d20115c14b57b5d8a3ca1fe8ab9e"
          }
        },
        "88d24c94962b48d1a63daf6e313e586a": {
          "model_module": "@jupyter-widgets/controls",
          "model_module_version": "1.5.0",
          "model_name": "HTMLModel",
          "state": {
            "_dom_classes": [],
            "_model_module": "@jupyter-widgets/controls",
            "_model_module_version": "1.5.0",
            "_model_name": "HTMLModel",
            "_view_count": null,
            "_view_module": "@jupyter-widgets/controls",
            "_view_module_version": "1.5.0",
            "_view_name": "HTMLView",
            "description": "",
            "description_tooltip": null,
            "layout": "IPY_MODEL_11fc51361a8d43a2b9d6d966a015f340",
            "placeholder": "​",
            "style": "IPY_MODEL_c4ce6739bd3b4858af93d193b243ec05",
            "value": "100%"
          }
        },
        "8b470356f5344df581e61a9a8d25ca8d": {
          "model_module": "@jupyter-widgets/base",
          "model_module_version": "1.2.0",
          "model_name": "LayoutModel",
          "state": {
            "_model_module": "@jupyter-widgets/base",
            "_model_module_version": "1.2.0",
            "_model_name": "LayoutModel",
            "_view_count": null,
            "_view_module": "@jupyter-widgets/base",
            "_view_module_version": "1.2.0",
            "_view_name": "LayoutView",
            "align_content": null,
            "align_items": null,
            "align_self": null,
            "border": null,
            "bottom": null,
            "display": null,
            "flex": null,
            "flex_flow": null,
            "grid_area": null,
            "grid_auto_columns": null,
            "grid_auto_flow": null,
            "grid_auto_rows": null,
            "grid_column": null,
            "grid_gap": null,
            "grid_row": null,
            "grid_template_areas": null,
            "grid_template_columns": null,
            "grid_template_rows": null,
            "height": null,
            "justify_content": null,
            "justify_items": null,
            "left": null,
            "margin": null,
            "max_height": null,
            "max_width": null,
            "min_height": null,
            "min_width": null,
            "object_fit": null,
            "object_position": null,
            "order": null,
            "overflow": null,
            "overflow_x": null,
            "overflow_y": null,
            "padding": null,
            "right": null,
            "top": null,
            "visibility": null,
            "width": null
          }
        },
        "91b453be435e4095b2a8613e94db140c": {
          "model_module": "@jupyter-widgets/base",
          "model_module_version": "1.2.0",
          "model_name": "LayoutModel",
          "state": {
            "_model_module": "@jupyter-widgets/base",
            "_model_module_version": "1.2.0",
            "_model_name": "LayoutModel",
            "_view_count": null,
            "_view_module": "@jupyter-widgets/base",
            "_view_module_version": "1.2.0",
            "_view_name": "LayoutView",
            "align_content": null,
            "align_items": null,
            "align_self": null,
            "border": null,
            "bottom": null,
            "display": null,
            "flex": null,
            "flex_flow": null,
            "grid_area": null,
            "grid_auto_columns": null,
            "grid_auto_flow": null,
            "grid_auto_rows": null,
            "grid_column": null,
            "grid_gap": null,
            "grid_row": null,
            "grid_template_areas": null,
            "grid_template_columns": null,
            "grid_template_rows": null,
            "height": null,
            "justify_content": null,
            "justify_items": null,
            "left": null,
            "margin": null,
            "max_height": null,
            "max_width": null,
            "min_height": null,
            "min_width": null,
            "object_fit": null,
            "object_position": null,
            "order": null,
            "overflow": null,
            "overflow_x": null,
            "overflow_y": null,
            "padding": null,
            "right": null,
            "top": null,
            "visibility": null,
            "width": null
          }
        },
        "aaa03cfd503c4699846a1926317e60c4": {
          "model_module": "@jupyter-widgets/base",
          "model_module_version": "1.2.0",
          "model_name": "LayoutModel",
          "state": {
            "_model_module": "@jupyter-widgets/base",
            "_model_module_version": "1.2.0",
            "_model_name": "LayoutModel",
            "_view_count": null,
            "_view_module": "@jupyter-widgets/base",
            "_view_module_version": "1.2.0",
            "_view_name": "LayoutView",
            "align_content": null,
            "align_items": null,
            "align_self": null,
            "border": null,
            "bottom": null,
            "display": null,
            "flex": null,
            "flex_flow": null,
            "grid_area": null,
            "grid_auto_columns": null,
            "grid_auto_flow": null,
            "grid_auto_rows": null,
            "grid_column": null,
            "grid_gap": null,
            "grid_row": null,
            "grid_template_areas": null,
            "grid_template_columns": null,
            "grid_template_rows": null,
            "height": null,
            "justify_content": null,
            "justify_items": null,
            "left": null,
            "margin": null,
            "max_height": null,
            "max_width": null,
            "min_height": null,
            "min_width": null,
            "object_fit": null,
            "object_position": null,
            "order": null,
            "overflow": null,
            "overflow_x": null,
            "overflow_y": null,
            "padding": null,
            "right": null,
            "top": null,
            "visibility": null,
            "width": null
          }
        },
        "af98ffeb410f4bf88f54ef6338c6c97d": {
          "model_module": "@jupyter-widgets/controls",
          "model_module_version": "1.5.0",
          "model_name": "DescriptionStyleModel",
          "state": {
            "_model_module": "@jupyter-widgets/controls",
            "_model_module_version": "1.5.0",
            "_model_name": "DescriptionStyleModel",
            "_view_count": null,
            "_view_module": "@jupyter-widgets/base",
            "_view_module_version": "1.2.0",
            "_view_name": "StyleView",
            "description_width": ""
          }
        },
        "b35cafb8d9034103aaa0734e4528ee6f": {
          "model_module": "@jupyter-widgets/controls",
          "model_module_version": "1.5.0",
          "model_name": "ProgressStyleModel",
          "state": {
            "_model_module": "@jupyter-widgets/controls",
            "_model_module_version": "1.5.0",
            "_model_name": "ProgressStyleModel",
            "_view_count": null,
            "_view_module": "@jupyter-widgets/base",
            "_view_module_version": "1.2.0",
            "_view_name": "StyleView",
            "bar_color": null,
            "description_width": ""
          }
        },
        "ba3587ae19fa42d688f1fcc8bccba705": {
          "model_module": "@jupyter-widgets/controls",
          "model_module_version": "1.5.0",
          "model_name": "DescriptionStyleModel",
          "state": {
            "_model_module": "@jupyter-widgets/controls",
            "_model_module_version": "1.5.0",
            "_model_name": "DescriptionStyleModel",
            "_view_count": null,
            "_view_module": "@jupyter-widgets/base",
            "_view_module_version": "1.2.0",
            "_view_name": "StyleView",
            "description_width": ""
          }
        },
        "c13de78a4e084ab885d2a934f2016576": {
          "model_module": "@jupyter-widgets/base",
          "model_module_version": "1.2.0",
          "model_name": "LayoutModel",
          "state": {
            "_model_module": "@jupyter-widgets/base",
            "_model_module_version": "1.2.0",
            "_model_name": "LayoutModel",
            "_view_count": null,
            "_view_module": "@jupyter-widgets/base",
            "_view_module_version": "1.2.0",
            "_view_name": "LayoutView",
            "align_content": null,
            "align_items": null,
            "align_self": null,
            "border": null,
            "bottom": null,
            "display": null,
            "flex": null,
            "flex_flow": null,
            "grid_area": null,
            "grid_auto_columns": null,
            "grid_auto_flow": null,
            "grid_auto_rows": null,
            "grid_column": null,
            "grid_gap": null,
            "grid_row": null,
            "grid_template_areas": null,
            "grid_template_columns": null,
            "grid_template_rows": null,
            "height": null,
            "justify_content": null,
            "justify_items": null,
            "left": null,
            "margin": null,
            "max_height": null,
            "max_width": null,
            "min_height": null,
            "min_width": null,
            "object_fit": null,
            "object_position": null,
            "order": null,
            "overflow": null,
            "overflow_x": null,
            "overflow_y": null,
            "padding": null,
            "right": null,
            "top": null,
            "visibility": null,
            "width": null
          }
        },
        "c154eec391154b88b997b506b6c47c6c": {
          "model_module": "@jupyter-widgets/controls",
          "model_module_version": "1.5.0",
          "model_name": "HBoxModel",
          "state": {
            "_dom_classes": [],
            "_model_module": "@jupyter-widgets/controls",
            "_model_module_version": "1.5.0",
            "_model_name": "HBoxModel",
            "_view_count": null,
            "_view_module": "@jupyter-widgets/controls",
            "_view_module_version": "1.5.0",
            "_view_name": "HBoxView",
            "box_style": "",
            "children": [
              "IPY_MODEL_88d24c94962b48d1a63daf6e313e586a",
              "IPY_MODEL_6ba427e5a2054035988736d8de15facd",
              "IPY_MODEL_3c9092e693294b86be20dea94a2f1006"
            ],
            "layout": "IPY_MODEL_91b453be435e4095b2a8613e94db140c"
          }
        },
        "c4ce6739bd3b4858af93d193b243ec05": {
          "model_module": "@jupyter-widgets/controls",
          "model_module_version": "1.5.0",
          "model_name": "DescriptionStyleModel",
          "state": {
            "_model_module": "@jupyter-widgets/controls",
            "_model_module_version": "1.5.0",
            "_model_name": "DescriptionStyleModel",
            "_view_count": null,
            "_view_module": "@jupyter-widgets/base",
            "_view_module_version": "1.2.0",
            "_view_name": "StyleView",
            "description_width": ""
          }
        },
        "db349cba877644358ca54a35eb3d1b45": {
          "model_module": "@jupyter-widgets/controls",
          "model_module_version": "1.5.0",
          "model_name": "ProgressStyleModel",
          "state": {
            "_model_module": "@jupyter-widgets/controls",
            "_model_module_version": "1.5.0",
            "_model_name": "ProgressStyleModel",
            "_view_count": null,
            "_view_module": "@jupyter-widgets/base",
            "_view_module_version": "1.2.0",
            "_view_name": "StyleView",
            "bar_color": null,
            "description_width": ""
          }
        },
        "eea2e5eb6ec7408389ba5f8c6965e2f2": {
          "model_module": "@jupyter-widgets/base",
          "model_module_version": "1.2.0",
          "model_name": "LayoutModel",
          "state": {
            "_model_module": "@jupyter-widgets/base",
            "_model_module_version": "1.2.0",
            "_model_name": "LayoutModel",
            "_view_count": null,
            "_view_module": "@jupyter-widgets/base",
            "_view_module_version": "1.2.0",
            "_view_name": "LayoutView",
            "align_content": null,
            "align_items": null,
            "align_self": null,
            "border": null,
            "bottom": null,
            "display": null,
            "flex": null,
            "flex_flow": null,
            "grid_area": null,
            "grid_auto_columns": null,
            "grid_auto_flow": null,
            "grid_auto_rows": null,
            "grid_column": null,
            "grid_gap": null,
            "grid_row": null,
            "grid_template_areas": null,
            "grid_template_columns": null,
            "grid_template_rows": null,
            "height": null,
            "justify_content": null,
            "justify_items": null,
            "left": null,
            "margin": null,
            "max_height": null,
            "max_width": null,
            "min_height": null,
            "min_width": null,
            "object_fit": null,
            "object_position": null,
            "order": null,
            "overflow": null,
            "overflow_x": null,
            "overflow_y": null,
            "padding": null,
            "right": null,
            "top": null,
            "visibility": null,
            "width": null
          }
        },
        "f44c78920f374dfc958dc7199ee89658": {
          "model_module": "@jupyter-widgets/base",
          "model_module_version": "1.2.0",
          "model_name": "LayoutModel",
          "state": {
            "_model_module": "@jupyter-widgets/base",
            "_model_module_version": "1.2.0",
            "_model_name": "LayoutModel",
            "_view_count": null,
            "_view_module": "@jupyter-widgets/base",
            "_view_module_version": "1.2.0",
            "_view_name": "LayoutView",
            "align_content": null,
            "align_items": null,
            "align_self": null,
            "border": null,
            "bottom": null,
            "display": null,
            "flex": null,
            "flex_flow": null,
            "grid_area": null,
            "grid_auto_columns": null,
            "grid_auto_flow": null,
            "grid_auto_rows": null,
            "grid_column": null,
            "grid_gap": null,
            "grid_row": null,
            "grid_template_areas": null,
            "grid_template_columns": null,
            "grid_template_rows": null,
            "height": null,
            "justify_content": null,
            "justify_items": null,
            "left": null,
            "margin": null,
            "max_height": null,
            "max_width": null,
            "min_height": null,
            "min_width": null,
            "object_fit": null,
            "object_position": null,
            "order": null,
            "overflow": null,
            "overflow_x": null,
            "overflow_y": null,
            "padding": null,
            "right": null,
            "top": null,
            "visibility": null,
            "width": null
          }
        },
        "f78b2914b38b4f1ea79c89ed010bf018": {
          "model_module": "@jupyter-widgets/controls",
          "model_module_version": "1.5.0",
          "model_name": "HTMLModel",
          "state": {
            "_dom_classes": [],
            "_model_module": "@jupyter-widgets/controls",
            "_model_module_version": "1.5.0",
            "_model_name": "HTMLModel",
            "_view_count": null,
            "_view_module": "@jupyter-widgets/controls",
            "_view_module_version": "1.5.0",
            "_view_name": "HTMLView",
            "description": "",
            "description_tooltip": null,
            "layout": "IPY_MODEL_76f3c798ff474b6ba1f78f0610883340",
            "placeholder": "​",
            "style": "IPY_MODEL_164355025558447ea78c57e3884e7b93",
            "value": "100%"
          }
        },
        "fd006445b84e407a8bb1f6cc2ddc9812": {
          "model_module": "@jupyter-widgets/base",
          "model_module_version": "1.2.0",
          "model_name": "LayoutModel",
          "state": {
            "_model_module": "@jupyter-widgets/base",
            "_model_module_version": "1.2.0",
            "_model_name": "LayoutModel",
            "_view_count": null,
            "_view_module": "@jupyter-widgets/base",
            "_view_module_version": "1.2.0",
            "_view_name": "LayoutView",
            "align_content": null,
            "align_items": null,
            "align_self": null,
            "border": null,
            "bottom": null,
            "display": null,
            "flex": null,
            "flex_flow": null,
            "grid_area": null,
            "grid_auto_columns": null,
            "grid_auto_flow": null,
            "grid_auto_rows": null,
            "grid_column": null,
            "grid_gap": null,
            "grid_row": null,
            "grid_template_areas": null,
            "grid_template_columns": null,
            "grid_template_rows": null,
            "height": null,
            "justify_content": null,
            "justify_items": null,
            "left": null,
            "margin": null,
            "max_height": null,
            "max_width": null,
            "min_height": null,
            "min_width": null,
            "object_fit": null,
            "object_position": null,
            "order": null,
            "overflow": null,
            "overflow_x": null,
            "overflow_y": null,
            "padding": null,
            "right": null,
            "top": null,
            "visibility": null,
            "width": null
          }
        }
      }
    }
  },
  "nbformat": 4,
  "nbformat_minor": 0
}
